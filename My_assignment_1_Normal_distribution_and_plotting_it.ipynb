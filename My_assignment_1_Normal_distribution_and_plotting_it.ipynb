{
  "nbformat": 4,
  "nbformat_minor": 0,
  "metadata": {
    "colab": {
      "name": "My assignment 1. Normal distribution and plotting it.ipynb",
      "provenance": [],
      "collapsed_sections": [],
      "authorship_tag": "ABX9TyP+XWlRZW0Px9cWRfC4pN/x",
      "include_colab_link": true
    },
    "kernelspec": {
      "name": "python3",
      "display_name": "Python 3"
    },
    "language_info": {
      "name": "python"
    }
  },
  "cells": [
    {
      "cell_type": "markdown",
      "metadata": {
        "id": "view-in-github",
        "colab_type": "text"
      },
      "source": [
        "<a href=\"https://colab.research.google.com/github/PRASADPRATYUSH2323/PRASADPRATYUSH2323/blob/main/My_assignment_1_Normal_distribution_and_plotting_it.ipynb\" target=\"_parent\"><img src=\"https://colab.research.google.com/assets/colab-badge.svg\" alt=\"Open In Colab\"/></a>"
      ]
    },
    {
      "cell_type": "code",
      "execution_count": null,
      "metadata": {
        "id": "Bywp5i00DGLb"
      },
      "outputs": [],
      "source": [
        "# importing libraries\n",
        "import numpy as np\n",
        "from numpy import random\n",
        "import pandas as pd\n",
        "from matplotlib import pyplot as plt\n",
        "import matplotlib.ticker as ticker"
      ]
    },
    {
      "cell_type": "code",
      "source": [
        "a=int(input('type the number of dimensions: '))\n",
        "b=int(input('type the number of sections: '))"
      ],
      "metadata": {
        "colab": {
          "base_uri": "https://localhost:8080/"
        },
        "id": "yDxNEthWDWva",
        "outputId": "0b1f78a8-17f1-4b55-adfe-bd015f47444e"
      },
      "execution_count": null,
      "outputs": [
        {
          "name": "stdout",
          "output_type": "stream",
          "text": [
            "type the number of dimensions: 1000\n",
            "type the number of sections: 25\n"
          ]
        }
      ]
    },
    {
      "cell_type": "code",
      "source": [
        "c=np.random.rand(a)\n",
        "c"
      ],
      "metadata": {
        "colab": {
          "base_uri": "https://localhost:8080/"
        },
        "id": "lB_6TtlBDYVw",
        "outputId": "be7f60da-b8da-45b2-a9ea-5cc83e4b2a84"
      },
      "execution_count": null,
      "outputs": [
        {
          "output_type": "execute_result",
          "data": {
            "text/plain": [
              "array([8.07974335e-01, 9.48658887e-01, 1.94199306e-01, 3.46337141e-01,\n",
              "       2.24906678e-01, 9.37614731e-02, 7.88065772e-01, 2.97172813e-01,\n",
              "       6.55852956e-01, 7.95321730e-01, 8.63562302e-01, 4.07787213e-01,\n",
              "       8.71281709e-01, 1.39976735e-01, 8.85250054e-01, 1.81148592e-01,\n",
              "       8.72029273e-01, 5.92753140e-01, 2.62107473e-01, 7.58411619e-03,\n",
              "       5.69278000e-01, 6.25521295e-01, 8.69244331e-01, 7.33684581e-01,\n",
              "       7.84433901e-01, 3.97171605e-01, 1.93967162e-01, 6.53406729e-01,\n",
              "       1.95524231e-01, 2.64143664e-02, 8.08711135e-01, 2.56203762e-01,\n",
              "       8.72356746e-01, 7.30576281e-01, 9.62895365e-01, 1.46737592e-01,\n",
              "       4.56789798e-01, 6.27840264e-01, 9.60773187e-01, 7.44442803e-01,\n",
              "       4.52674442e-01, 2.44156015e-01, 1.05742022e-01, 7.85616040e-01,\n",
              "       4.58593365e-01, 7.11109504e-02, 7.55071474e-01, 4.36694295e-01,\n",
              "       9.19959407e-02, 1.45184935e-01, 4.32115088e-01, 6.52231788e-01,\n",
              "       6.27618805e-01, 7.95335919e-01, 1.10578607e-01, 8.52704105e-01,\n",
              "       2.83602874e-01, 4.59325645e-02, 7.65420550e-01, 6.79764880e-01,\n",
              "       5.32108908e-01, 1.16952739e-01, 9.70810435e-01, 8.48070687e-01,\n",
              "       9.99943713e-01, 9.23306756e-01, 8.21661371e-01, 4.23133431e-01,\n",
              "       2.80114532e-01, 8.38156202e-01, 8.37930472e-01, 2.96128230e-01,\n",
              "       6.69279567e-01, 1.99995387e-02, 2.61901758e-01, 7.38568558e-01,\n",
              "       8.11816802e-01, 9.01303920e-01, 3.04439800e-01, 3.93019876e-01,\n",
              "       5.92739411e-01, 3.58752209e-01, 5.03664616e-01, 5.75746712e-01,\n",
              "       7.93932624e-01, 5.68534525e-01, 7.68473951e-01, 3.81532380e-02,\n",
              "       1.17490539e-01, 1.98609832e-01, 7.00603464e-01, 5.65066760e-01,\n",
              "       8.02154430e-01, 5.21039723e-01, 6.77423374e-01, 8.70801756e-01,\n",
              "       9.26371580e-01, 3.85803655e-01, 7.68115844e-01, 6.62887478e-01,\n",
              "       9.18428948e-01, 1.78168453e-01, 2.61269070e-01, 5.14044779e-01,\n",
              "       9.49046699e-01, 1.39182039e-02, 6.66128453e-01, 1.72248404e-01,\n",
              "       9.54936667e-01, 6.04005163e-01, 1.47262216e-01, 6.40184140e-01,\n",
              "       6.14681344e-01, 4.07085555e-01, 7.12996975e-01, 4.72423133e-02,\n",
              "       8.09417519e-01, 7.73600015e-01, 2.41816795e-01, 7.96825265e-01,\n",
              "       6.15134963e-01, 8.10532437e-01, 5.79375242e-01, 1.95915566e-01,\n",
              "       7.30905436e-01, 2.72847874e-01, 3.13538652e-01, 2.74142633e-02,\n",
              "       6.08967323e-01, 7.79570932e-01, 5.62378549e-01, 6.43870065e-01,\n",
              "       4.45034450e-01, 9.05537501e-01, 6.90783683e-01, 4.48329462e-02,\n",
              "       7.50025397e-01, 1.20506716e-01, 4.20952538e-01, 5.27997890e-02,\n",
              "       7.44673271e-01, 4.19421575e-01, 3.65625018e-01, 2.52200193e-01,\n",
              "       7.52697004e-01, 9.51189914e-02, 8.75660113e-01, 9.31419098e-01,\n",
              "       2.17854231e-01, 3.18426591e-01, 8.48342976e-01, 7.81393236e-01,\n",
              "       8.13357216e-01, 3.80545988e-01, 6.97133431e-03, 6.59445916e-01,\n",
              "       8.90466581e-01, 2.23841208e-01, 5.83134367e-01, 6.69609682e-01,\n",
              "       8.20839992e-01, 9.70588156e-01, 2.51243969e-01, 5.43663392e-01,\n",
              "       4.71279531e-01, 4.28516455e-01, 9.25292718e-01, 8.48371964e-03,\n",
              "       5.41839050e-01, 2.10423139e-01, 4.44835820e-01, 7.28820142e-01,\n",
              "       1.22164690e-01, 1.50918595e-01, 6.44993401e-01, 5.11573933e-01,\n",
              "       3.37705204e-02, 2.23805197e-01, 9.60960724e-01, 6.00354028e-01,\n",
              "       2.38128513e-01, 6.47071814e-01, 2.52933093e-01, 7.68421545e-01,\n",
              "       5.87763401e-01, 4.15225468e-01, 5.33999548e-01, 3.96712637e-01,\n",
              "       8.84591309e-01, 5.35803772e-01, 9.80027126e-01, 9.82652649e-01,\n",
              "       7.20581196e-01, 6.32183341e-02, 1.71637507e-01, 3.54085319e-01,\n",
              "       2.57532503e-01, 4.55513045e-01, 9.63688905e-01, 9.18133693e-01,\n",
              "       9.70614519e-01, 7.13795393e-01, 7.78961848e-01, 5.26626809e-01,\n",
              "       3.51204365e-01, 9.13018413e-01, 1.25589927e-01, 3.76488595e-01,\n",
              "       3.02567842e-01, 9.61122362e-01, 4.06459075e-01, 6.70303490e-01,\n",
              "       2.04583166e-01, 9.93423112e-01, 2.52014888e-01, 8.14819662e-01,\n",
              "       1.68487319e-01, 5.45550654e-01, 3.49160175e-01, 3.11739860e-01,\n",
              "       4.60528583e-01, 5.35557858e-01, 3.49406081e-01, 1.52939057e-02,\n",
              "       7.63164845e-01, 4.92937251e-01, 2.26817617e-01, 3.28482886e-01,\n",
              "       9.91367159e-01, 2.63465136e-02, 2.76112386e-01, 5.29472344e-01,\n",
              "       6.98552402e-02, 4.67705952e-01, 2.70693798e-02, 8.67003261e-01,\n",
              "       7.85135690e-01, 4.03629253e-02, 3.11392693e-02, 2.10046471e-01,\n",
              "       6.81225232e-01, 3.07429030e-01, 6.02422835e-01, 2.52773344e-01,\n",
              "       3.84271085e-01, 4.98157685e-01, 4.66738943e-01, 8.94601137e-01,\n",
              "       6.01178446e-01, 9.73493878e-03, 9.94477303e-01, 7.23376773e-01,\n",
              "       7.74368876e-01, 9.34433745e-01, 8.15775052e-01, 5.27264577e-01,\n",
              "       2.12046632e-01, 2.53591207e-01, 6.25803379e-01, 6.03116399e-01,\n",
              "       6.85935556e-01, 6.69323982e-01, 2.20605734e-01, 3.09724776e-01,\n",
              "       4.35775251e-01, 2.99016693e-01, 3.95720730e-01, 5.18455273e-01,\n",
              "       5.34200556e-01, 9.77496259e-01, 2.63357433e-01, 2.12636771e-01,\n",
              "       8.79821560e-02, 2.60244423e-01, 7.01593143e-01, 1.36628448e-01,\n",
              "       4.35487960e-01, 4.98387518e-01, 3.56747692e-01, 2.56056360e-01,\n",
              "       3.73577694e-01, 6.05350190e-01, 7.19722065e-01, 2.55462810e-01,\n",
              "       5.31006481e-01, 6.08683547e-01, 4.31363012e-01, 8.51554030e-01,\n",
              "       5.84265616e-01, 2.77483641e-01, 8.07793186e-01, 1.09745303e-02,\n",
              "       2.88652301e-01, 9.01707307e-01, 6.92221724e-01, 6.15141784e-01,\n",
              "       8.40103869e-01, 8.35499444e-01, 6.22322073e-01, 1.15487334e-01,\n",
              "       5.02373749e-01, 1.02347100e-01, 6.07699266e-01, 9.89662013e-01,\n",
              "       1.46723282e-02, 2.64368587e-01, 8.82066160e-01, 2.96830108e-01,\n",
              "       2.56832381e-01, 1.03601852e-01, 9.41077053e-01, 2.85392272e-01,\n",
              "       2.81449248e-01, 4.50956466e-01, 8.28284366e-01, 2.60614634e-01,\n",
              "       6.03854560e-01, 3.02269410e-01, 9.96220001e-01, 1.70557308e-01,\n",
              "       3.53952968e-01, 9.67725511e-01, 8.06150514e-01, 8.48730119e-01,\n",
              "       2.52990121e-01, 3.36682405e-01, 6.77514637e-01, 4.42595952e-01,\n",
              "       3.02230032e-01, 7.21414346e-01, 4.54835978e-01, 9.06807481e-01,\n",
              "       9.74346402e-01, 3.41829775e-01, 4.22735076e-01, 3.47935099e-01,\n",
              "       3.42277680e-01, 4.45630108e-03, 9.61566413e-01, 1.38629245e-01,\n",
              "       1.75623199e-01, 4.56540660e-01, 8.10297551e-01, 2.74069385e-01,\n",
              "       9.70610391e-01, 2.98027981e-01, 9.62413302e-01, 5.21892338e-01,\n",
              "       8.11530521e-01, 6.09160465e-02, 6.55990528e-01, 1.50004157e-02,\n",
              "       8.77117446e-01, 2.90973358e-01, 9.13754973e-01, 2.20452416e-01,\n",
              "       5.82351504e-01, 2.80548389e-01, 8.51284884e-01, 9.93306523e-02,\n",
              "       6.62351825e-01, 3.74098065e-01, 6.44289283e-01, 3.93149122e-01,\n",
              "       8.14148021e-01, 4.23776470e-01, 5.61362613e-01, 5.72805156e-01,\n",
              "       3.07239611e-01, 1.61640632e-01, 4.48072663e-01, 9.89894333e-01,\n",
              "       5.88372644e-01, 6.88418810e-01, 8.10491415e-01, 5.44139441e-01,\n",
              "       6.92796670e-01, 7.27039092e-01, 3.63867823e-01, 1.89363507e-01,\n",
              "       8.17668669e-01, 9.84957425e-01, 8.16927288e-01, 4.42541823e-01,\n",
              "       3.95687513e-01, 5.40860221e-01, 2.39787993e-01, 2.91661967e-01,\n",
              "       6.47667324e-02, 8.16720413e-02, 3.38005322e-01, 7.98451067e-01,\n",
              "       2.33180994e-01, 7.80379575e-01, 7.33321780e-01, 1.81217148e-01,\n",
              "       8.04168614e-01, 6.46011848e-01, 9.18030182e-01, 7.47077821e-01,\n",
              "       9.65022666e-03, 4.88894433e-01, 1.97001788e-01, 3.59845759e-01,\n",
              "       4.24336904e-01, 6.24331304e-01, 6.93481631e-01, 3.11769762e-01,\n",
              "       2.37035308e-02, 9.40715592e-01, 4.01311870e-01, 5.84468330e-01,\n",
              "       2.22487594e-02, 1.43274800e-01, 5.82706249e-01, 9.20297237e-01,\n",
              "       1.76489143e-01, 2.40299111e-01, 1.97808057e-01, 3.16538973e-01,\n",
              "       2.65837563e-01, 1.45932064e-01, 2.36464120e-01, 4.26367423e-01,\n",
              "       7.24928546e-01, 1.51970068e-01, 4.90988880e-01, 2.98817490e-02,\n",
              "       1.00199182e-01, 4.03051838e-01, 5.36298058e-01, 2.18292112e-01,\n",
              "       6.90961228e-01, 3.96315435e-01, 2.64990095e-01, 4.59077556e-01,\n",
              "       2.98288640e-01, 6.92389220e-01, 8.81977727e-01, 3.19050951e-01,\n",
              "       6.75889639e-01, 1.33506008e-01, 7.76968563e-01, 8.95179329e-01,\n",
              "       6.22064778e-01, 9.57580609e-01, 6.84245932e-01, 2.43847180e-02,\n",
              "       5.86403260e-02, 4.34906325e-02, 4.56910550e-01, 7.28565484e-01,\n",
              "       4.65677562e-01, 1.45747621e-01, 2.04573622e-01, 5.64150067e-01,\n",
              "       5.48013355e-01, 2.89461804e-01, 2.75135662e-01, 9.09281667e-01,\n",
              "       6.18685757e-01, 2.44286570e-01, 1.54390487e-01, 6.69831548e-01,\n",
              "       2.51525066e-01, 7.29284857e-01, 2.07397525e-01, 7.09813948e-01,\n",
              "       6.64287450e-01, 7.41507686e-01, 3.80802305e-01, 3.57273516e-01,\n",
              "       5.06033769e-03, 8.62669741e-04, 7.38778598e-01, 8.40023787e-01,\n",
              "       9.39490618e-01, 1.91624086e-01, 5.04365048e-01, 3.94190415e-01,\n",
              "       8.07665989e-01, 2.77851728e-01, 4.15011273e-01, 2.64226572e-01,\n",
              "       9.12341135e-01, 6.11488182e-01, 5.25618389e-01, 5.52101559e-02,\n",
              "       8.27329880e-01, 9.18563144e-01, 7.47084426e-01, 1.10663825e-01,\n",
              "       4.29246380e-01, 7.54772557e-01, 1.19016328e-01, 2.34160985e-01,\n",
              "       5.72999882e-01, 7.11303451e-01, 7.12587383e-01, 4.85274766e-01,\n",
              "       7.72769312e-01, 4.70566669e-01, 5.92805382e-01, 7.92403710e-01,\n",
              "       9.14843859e-01, 7.91788334e-01, 5.96762182e-01, 2.18250515e-01,\n",
              "       7.21719666e-01, 1.41424453e-01, 7.81243879e-01, 6.01796293e-01,\n",
              "       4.69777207e-01, 3.95722068e-01, 1.15656524e-01, 1.73227183e-01,\n",
              "       7.50771746e-01, 8.26441228e-01, 5.91622747e-01, 3.14169516e-01,\n",
              "       6.10671018e-01, 4.67134394e-01, 7.01682747e-01, 7.91149592e-01,\n",
              "       8.96608168e-02, 7.77840757e-01, 9.42989284e-01, 6.44578975e-01,\n",
              "       9.09614578e-01, 8.14004938e-01, 9.55366171e-01, 8.86046157e-02,\n",
              "       5.02942193e-01, 5.14218493e-01, 5.89258659e-01, 9.32329419e-02,\n",
              "       6.99159257e-01, 4.05414438e-01, 2.69350190e-01, 8.78678516e-01,\n",
              "       2.93677534e-01, 2.53972241e-03, 2.16559249e-02, 4.55588371e-01,\n",
              "       8.15620016e-01, 8.06596863e-01, 8.61952847e-01, 4.03992098e-01,\n",
              "       4.70933769e-01, 4.45333490e-01, 5.50156196e-01, 1.65096367e-02,\n",
              "       9.79048710e-02, 1.72708468e-01, 9.21041105e-01, 2.84528717e-01,\n",
              "       1.83625971e-01, 9.43861989e-01, 8.27760994e-01, 9.35937967e-01,\n",
              "       2.76895726e-01, 8.33109907e-01, 8.51546577e-01, 9.73102853e-01,\n",
              "       9.78808631e-01, 7.45040573e-01, 8.26014233e-01, 7.28594801e-01,\n",
              "       8.50752586e-01, 6.77095788e-01, 7.23012782e-01, 4.26149177e-01,\n",
              "       9.79429509e-01, 9.06770584e-01, 3.91831880e-01, 1.90696496e-01,\n",
              "       4.83398096e-01, 5.85707452e-02, 2.08398817e-01, 5.39657977e-01,\n",
              "       6.43098648e-01, 5.79607830e-01, 8.86629544e-02, 9.80663271e-01,\n",
              "       9.67307300e-01, 6.44231003e-01, 6.96636024e-01, 5.46262811e-01,\n",
              "       4.73037508e-01, 3.98653113e-01, 7.14424727e-01, 2.90974538e-01,\n",
              "       2.93141415e-02, 4.13565149e-02, 8.45161869e-01, 5.57175601e-01,\n",
              "       2.25610456e-01, 7.23698004e-01, 2.23777687e-01, 4.21721133e-03,\n",
              "       6.17933465e-01, 8.38180702e-01, 2.45109755e-01, 6.75029170e-01,\n",
              "       2.56786975e-01, 7.21429473e-01, 6.76135433e-01, 8.75641214e-01,\n",
              "       1.35372137e-01, 5.60286257e-01, 7.98973064e-01, 1.15885185e-02,\n",
              "       6.45366243e-01, 9.79309766e-01, 8.48982807e-01, 1.24955693e-01,\n",
              "       1.74832427e-01, 7.92909194e-01, 9.25779013e-01, 2.30912503e-01,\n",
              "       9.68923919e-01, 3.53850202e-01, 2.98325343e-01, 1.57791284e-02,\n",
              "       9.96686637e-01, 7.59227972e-02, 9.02322422e-01, 7.23492861e-01,\n",
              "       7.93616509e-01, 1.47580684e-01, 5.70953597e-01, 8.86845872e-01,\n",
              "       7.87440639e-01, 3.90787141e-01, 7.86288094e-01, 1.16705534e-01,\n",
              "       7.40524511e-01, 5.21173299e-01, 8.26843455e-01, 1.00217571e-01,\n",
              "       6.09474295e-02, 8.22993580e-01, 7.08233664e-01, 9.85406547e-01,\n",
              "       2.81573891e-01, 6.22372426e-01, 6.49263021e-02, 4.59618081e-01,\n",
              "       4.96030076e-01, 5.12926530e-01, 9.69221958e-01, 4.67059073e-01,\n",
              "       5.00055387e-01, 4.25683628e-01, 7.87048725e-01, 3.17173706e-01,\n",
              "       2.67463519e-01, 1.24004076e-01, 4.26854481e-01, 5.51416044e-01,\n",
              "       5.13303212e-01, 6.27456942e-01, 7.62975230e-01, 5.48355865e-01,\n",
              "       6.96180888e-01, 1.92548545e-01, 3.47051033e-01, 2.07076004e-01,\n",
              "       5.44788494e-01, 6.56330583e-02, 7.71153426e-02, 4.31436411e-01,\n",
              "       7.02585705e-01, 6.17629069e-01, 3.79137714e-01, 3.82815721e-01,\n",
              "       2.93547075e-01, 6.93340986e-01, 4.35586881e-01, 1.83944349e-02,\n",
              "       7.66286365e-01, 8.53121208e-01, 4.69937885e-01, 4.46227212e-01,\n",
              "       1.36357582e-01, 6.76406809e-01, 9.63827314e-01, 3.92186925e-01,\n",
              "       2.64801533e-02, 6.83458030e-01, 3.47408058e-01, 5.69442012e-01,\n",
              "       8.48087086e-01, 5.63820072e-01, 3.61533626e-01, 9.54732315e-01,\n",
              "       3.21407192e-01, 8.27591051e-01, 7.35880956e-02, 3.23347111e-01,\n",
              "       4.41455422e-01, 7.84797433e-01, 6.76294963e-01, 5.02508136e-01,\n",
              "       3.52405876e-01, 7.45828581e-01, 5.77325541e-01, 8.84546656e-01,\n",
              "       2.61088547e-03, 7.63911482e-01, 1.78077863e-01, 3.91027798e-01,\n",
              "       1.49487442e-01, 9.99227111e-01, 1.66219089e-01, 8.16941824e-01,\n",
              "       2.27594810e-01, 3.84319033e-01, 4.33283684e-02, 4.09624149e-01,\n",
              "       1.34394553e-01, 4.80251534e-01, 8.42650335e-01, 1.65366038e-01,\n",
              "       5.30528105e-02, 6.27534175e-01, 2.78563398e-01, 8.06989016e-01,\n",
              "       4.53658859e-02, 1.60872592e-01, 3.91861070e-01, 7.10353971e-01,\n",
              "       8.55810450e-01, 8.48553191e-01, 3.21373603e-01, 2.88181458e-01,\n",
              "       2.11007816e-01, 5.01910654e-02, 4.17159126e-01, 7.40236899e-02,\n",
              "       4.41984731e-01, 3.51120232e-01, 8.97492317e-01, 3.45737096e-01,\n",
              "       1.90831972e-01, 1.26244180e-01, 2.19910228e-01, 4.66292265e-01,\n",
              "       8.10190951e-01, 3.02144087e-01, 2.97589184e-01, 3.56183783e-01,\n",
              "       2.09504954e-01, 9.44430310e-01, 2.25634201e-01, 2.86764019e-01,\n",
              "       4.21539927e-01, 3.00121591e-01, 9.23148302e-01, 3.70442238e-01,\n",
              "       4.05796563e-01, 9.43431898e-01, 1.28278466e-01, 3.70102183e-01,\n",
              "       1.99835077e-02, 2.60739699e-01, 9.20675416e-02, 7.59523552e-01,\n",
              "       7.70220723e-01, 4.51192027e-02, 2.16142895e-01, 9.50675263e-01,\n",
              "       2.99161028e-01, 7.67066387e-01, 1.56075620e-03, 3.13651122e-02,\n",
              "       7.26224785e-01, 7.74650180e-01, 5.97492789e-01, 4.84442507e-01,\n",
              "       1.25854043e-01, 9.85520524e-01, 2.88295345e-01, 9.77131103e-01,\n",
              "       5.41155501e-01, 1.38674326e-01, 8.30312515e-01, 2.24827847e-01,\n",
              "       5.10688729e-01, 4.81481719e-01, 4.40561047e-01, 6.19919241e-01,\n",
              "       9.85452717e-01, 5.41287050e-01, 8.42859188e-01, 1.25907592e-03,\n",
              "       5.20890390e-01, 1.18227741e-01, 4.35439463e-01, 2.62765296e-01,\n",
              "       6.92482786e-01, 8.04418346e-01, 2.45270814e-01, 2.13295726e-01,\n",
              "       1.85531706e-02, 5.38725039e-01, 5.30148760e-01, 1.92161431e-02,\n",
              "       8.94313285e-01, 8.58000280e-01, 8.16536049e-01, 5.33217844e-02,\n",
              "       6.94649225e-03, 7.91270931e-01, 2.10348023e-01, 3.44354926e-01,\n",
              "       7.45056766e-01, 1.56805247e-01, 9.02022888e-01, 2.28505712e-01,\n",
              "       9.06452893e-01, 6.16729776e-01, 5.09429723e-01, 8.45575568e-01,\n",
              "       4.18425305e-01, 7.81422455e-01, 2.54668661e-01, 5.82611537e-01,\n",
              "       3.76553547e-01, 2.16757990e-01, 1.95825664e-01, 4.28394493e-01,\n",
              "       9.65459207e-01, 2.69801263e-01, 8.33467036e-01, 4.02259926e-01,\n",
              "       9.51385965e-01, 9.10950300e-02, 4.33192494e-01, 6.63334974e-01,\n",
              "       9.30147161e-01, 8.05081823e-01, 3.57197798e-01, 6.28500114e-01,\n",
              "       8.38012881e-01, 5.79119416e-01, 7.34226127e-01, 8.28430951e-02,\n",
              "       1.98722555e-01, 7.23699535e-01, 2.61826535e-01, 9.81816566e-01,\n",
              "       1.11108734e-01, 7.89247389e-01, 3.04166956e-01, 4.64174089e-01,\n",
              "       3.97447833e-01, 1.71270628e-02, 5.23554023e-01, 7.44538980e-01,\n",
              "       7.38580458e-01, 6.25252604e-01, 1.51967453e-01, 2.71950267e-01,\n",
              "       1.52371718e-01, 7.45876931e-01, 8.59513291e-01, 5.80984115e-01,\n",
              "       8.33434707e-01, 4.99545564e-01, 5.36917470e-01, 6.93896085e-01,\n",
              "       3.99541543e-01, 2.14543247e-01, 8.78851449e-01, 6.60421871e-01,\n",
              "       2.06036245e-01, 9.04488959e-01, 8.62421475e-01, 4.47229721e-01,\n",
              "       7.56471750e-01, 9.11815258e-01, 2.40478072e-01, 5.50271619e-01,\n",
              "       4.66606502e-01, 2.59382993e-01, 6.01642850e-01, 1.53229385e-01,\n",
              "       5.56587696e-01, 7.82534956e-01, 1.89871064e-01, 6.76024092e-01,\n",
              "       6.33570980e-01, 2.10970907e-02, 9.88350996e-01, 6.80613808e-01,\n",
              "       2.99607545e-01, 5.92450414e-01, 7.75214932e-01, 5.24001275e-01,\n",
              "       1.28698024e-01, 6.13563430e-02, 6.23316619e-01, 3.85144187e-01,\n",
              "       8.23532270e-01, 1.02928055e-01, 6.89770645e-01, 2.25528134e-01,\n",
              "       5.66663311e-01, 8.85750337e-01, 8.85151304e-01, 6.42749562e-01,\n",
              "       6.98569998e-01, 4.91331941e-01, 4.40434388e-01, 9.23719152e-02,\n",
              "       7.89764966e-01, 3.63745006e-01, 4.41508940e-01, 7.01811980e-01,\n",
              "       7.31002954e-01, 5.58286406e-01, 3.46135822e-01, 9.35414388e-03,\n",
              "       3.05368783e-01, 3.47120492e-02, 2.67052615e-02, 1.55298062e-01,\n",
              "       9.86408706e-01, 3.38963586e-01, 7.37596326e-02, 7.99160783e-01,\n",
              "       5.95800784e-01, 6.04142141e-01, 4.67762779e-01, 2.51464903e-01,\n",
              "       5.23795965e-02, 2.90494889e-01, 6.19860629e-01, 9.93574486e-01,\n",
              "       3.06817882e-01, 7.02724037e-01, 6.05043538e-01, 2.98406222e-01,\n",
              "       1.13355407e-01, 5.43728281e-01, 1.27089692e-01, 9.00974211e-01,\n",
              "       9.16421425e-01, 6.53394533e-01, 1.62732665e-01, 8.63274712e-01,\n",
              "       1.64737856e-01, 3.35720017e-01, 3.48368772e-02, 4.62657344e-01,\n",
              "       5.32437800e-01, 9.18386922e-01, 8.71704116e-01, 3.63115367e-01,\n",
              "       9.76375714e-01, 1.30274529e-02, 4.36508481e-01, 4.01148279e-01,\n",
              "       8.79685676e-01, 5.38626642e-01, 2.96012761e-01, 4.31671937e-01,\n",
              "       2.43826261e-01, 9.80055316e-01, 6.29022112e-02, 3.05206787e-01,\n",
              "       8.19243975e-01, 4.65402830e-01, 9.33628140e-01, 8.59291929e-01,\n",
              "       6.89510239e-01, 5.89531006e-01, 5.56558165e-01, 1.05323417e-01,\n",
              "       8.33559788e-01, 8.90624578e-01, 1.86220769e-01, 1.55008708e-01,\n",
              "       4.38528086e-02, 5.56849156e-01, 6.48389976e-01, 8.33049537e-01,\n",
              "       9.16613239e-01, 1.68046517e-01, 1.22876168e-01, 5.55260494e-01,\n",
              "       5.94535045e-01, 4.88193690e-01, 7.50999580e-01, 4.50251412e-01,\n",
              "       1.65797669e-01, 2.94077134e-01, 7.13768743e-01, 5.18522399e-01])"
            ]
          },
          "metadata": {},
          "execution_count": 3
        }
      ]
    },
    {
      "cell_type": "code",
      "source": [
        "d=np.zeros(b)\n",
        "for x in c:\n",
        "    for y in range(0,b):\n",
        "        if ((y/b)<x)&(((y+1)/b)>x):\n",
        "            d[y]+=1\n",
        "#     print('hi')\n",
        "print(d)            "
      ],
      "metadata": {
        "colab": {
          "base_uri": "https://localhost:8080/"
        },
        "id": "ebWuXUL5Dhvv",
        "outputId": "564d150d-d931-4c35-e443-6e4f74b54f5f"
      },
      "execution_count": null,
      "outputs": [
        {
          "output_type": "stream",
          "name": "stdout",
          "text": [
            "[49. 33. 33. 37. 38. 40. 50. 52. 31. 36. 40. 43. 29. 44. 38. 39. 39. 37.\n",
            " 44. 47. 51. 39. 38. 27. 46.]\n"
          ]
        }
      ]
    },
    {
      "cell_type": "code",
      "source": [
        "np.cumsum(d)"
      ],
      "metadata": {
        "colab": {
          "base_uri": "https://localhost:8080/"
        },
        "id": "NHuAa1HWDibj",
        "outputId": "585a66fa-3ae7-42df-fd06-88b59339753e"
      },
      "execution_count": null,
      "outputs": [
        {
          "output_type": "execute_result",
          "data": {
            "text/plain": [
              "array([  49.,   82.,  115.,  152.,  190.,  230.,  280.,  332.,  363.,\n",
              "        399.,  439.,  482.,  511.,  555.,  593.,  632.,  671.,  708.,\n",
              "        752.,  799.,  850.,  889.,  927.,  954., 1000.])"
            ]
          },
          "metadata": {},
          "execution_count": 5
        }
      ]
    },
    {
      "cell_type": "code",
      "source": [
        "e=[]\n",
        "for x in range(0,b):\n",
        "    y=x/b+(.5/b)\n",
        "    e.append(y)\n",
        "print(e)"
      ],
      "metadata": {
        "colab": {
          "base_uri": "https://localhost:8080/"
        },
        "id": "8sO6AW0cDmM_",
        "outputId": "e72bdfb2-2c7b-42a9-d6f0-52815d4c2ae5"
      },
      "execution_count": null,
      "outputs": [
        {
          "output_type": "stream",
          "name": "stdout",
          "text": [
            "[0.02, 0.06, 0.1, 0.13999999999999999, 0.18, 0.22, 0.26, 0.30000000000000004, 0.34, 0.38, 0.42000000000000004, 0.46, 0.5, 0.54, 0.5800000000000001, 0.62, 0.66, 0.7000000000000001, 0.74, 0.78, 0.8200000000000001, 0.86, 0.9, 0.9400000000000001, 0.98]\n"
          ]
        }
      ]
    },
    {
      "cell_type": "code",
      "source": [
        "x=1/(2*b)\n",
        "plt.bar(e,d,color='black',width=x)\n",
        "plt.xlabel('value of x')\n",
        "plt.ylabel('count')\n",
        "plt.title('bargraph values to count')\n",
        "plt.show()"
      ],
      "metadata": {
        "colab": {
          "base_uri": "https://localhost:8080/",
          "height": 295
        },
        "id": "0dwz0C5hDodC",
        "outputId": "7c565ba4-e756-4044-bc95-cd35e52d942b"
      },
      "execution_count": null,
      "outputs": [
        {
          "output_type": "display_data",
          "data": {
            "text/plain": [
              "<Figure size 432x288 with 1 Axes>"
            ],
            "image/png": "[encoded data removed]"
          },
          "metadata": {
            "needs_background": "light"
          }
        }
      ]
    },
    {
      "cell_type": "code",
      "source": [
        ""
      ],
      "metadata": {
        "id": "5RRbNyueDq4Z"
      },
      "execution_count": null,
      "outputs": []
    }
  ]
}