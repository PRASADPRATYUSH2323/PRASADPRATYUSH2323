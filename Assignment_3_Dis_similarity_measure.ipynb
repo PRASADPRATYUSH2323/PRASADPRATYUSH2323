{
  "nbformat": 4,
  "nbformat_minor": 0,
  "metadata": {
    "colab": {
      "name": "Assignment 3. Dis-similarity measure.ipynb",
      "provenance": [],
      "collapsed_sections": [],
      "authorship_tag": "ABX9TyPimNPBpNLxwYkYKj5klTG8",
      "include_colab_link": true
    },
    "kernelspec": {
      "name": "python3",
      "display_name": "Python 3"
    },
    "language_info": {
      "name": "python"
    }
  },
  "cells": [
    {
      "cell_type": "markdown",
      "metadata": {
        "id": "view-in-github",
        "colab_type": "text"
      },
      "source": [
        "<a href=\"https://colab.research.google.com/github/PRASADPRATYUSH2323/PRASADPRATYUSH2323/blob/main/Assignment_3_Dis_similarity_measure.ipynb\" target=\"_parent\"><img src=\"https://colab.research.google.com/assets/colab-badge.svg\" alt=\"Open In Colab\"/></a>"
      ]
    },
    {
      "cell_type": "markdown",
      "source": [
        "# importing libraries, number of dimensions and points"
      ],
      "metadata": {
        "id": "Cb95pOVqAVlw"
      }
    },
    {
      "cell_type": "code",
      "source": [
        "# importing libraries\n",
        "import numpy as np\n",
        "from numpy import random\n",
        "import pandas as pd\n",
        "from matplotlib import pyplot as plt\n",
        "import matplotlib.ticker as ticker"
      ],
      "metadata": {
        "id": "WYyLrjriAnlQ"
      },
      "execution_count": null,
      "outputs": []
    },
    {
      "cell_type": "code",
      "source": [
        "# taking in the number of points and dimensions\n",
        "a=int(input('type the number of points:'))\n",
        "b=int(input('type the number of dimensions:'))\n",
        "print(a)\n",
        "print(b)"
      ],
      "metadata": {
        "colab": {
          "base_uri": "https://localhost:8080/"
        },
        "id": "HiIMEY8WAp1N",
        "outputId": "50bd152b-9cab-4efb-d176-d6610595125b"
      },
      "execution_count": null,
      "outputs": [
        {
          "output_type": "stream",
          "name": "stdout",
          "text": [
            "type the number of points:5\n",
            "type the number of dimensions:10\n",
            "5\n",
            "10\n"
          ]
        }
      ]
    },
    {
      "cell_type": "code",
      "source": [
        "# creating random points\n",
        "p=[]\n",
        "for i in range(0,a):\n",
        "    w=np.random.rand(b)\n",
        "    w=(2*w)-1\n",
        "    p.append(w)\n",
        "print(p)"
      ],
      "metadata": {
        "colab": {
          "base_uri": "https://localhost:8080/"
        },
        "id": "NmkAiTqwArFX",
        "outputId": "51103df5-c877-409f-f722-271ced5260b9"
      },
      "execution_count": null,
      "outputs": [
        {
          "output_type": "stream",
          "name": "stdout",
          "text": [
            "[array([ 0.27203533, -0.39490652, -0.87024963,  0.28424822,  0.73970226,\n",
            "        0.63268467, -0.141347  ,  0.98966349,  0.36210857,  0.89006547]), array([ 0.16390878,  0.75377474, -0.17538592,  0.22510199,  0.27953381,\n",
            "        0.77316589,  0.88889116,  0.49263352, -0.96813297, -0.69731799]), array([-0.20732552,  0.36093367, -0.52882761,  0.52462677, -0.90781252,\n",
            "       -0.48639645, -0.64637229,  0.21767595, -0.52215716,  0.80983296]), array([ 0.17907259,  0.24417796, -0.19144662,  0.36698889, -0.89243223,\n",
            "        0.6168611 ,  0.36270305, -0.21202317,  0.22720562,  0.69781398]), array([-0.51567844, -0.71909057, -0.48389382,  0.56367798, -0.6654938 ,\n",
            "        0.85700884,  0.36984424, -0.19423666,  0.68096429,  0.64969027])]\n"
          ]
        }
      ]
    },
    {
      "cell_type": "markdown",
      "source": [
        "# finding distance from origin, angle of every point wrt each axis, angle between 2 points"
      ],
      "metadata": {
        "id": "AzAYbdStAzDr"
      }
    },
    {
      "cell_type": "code",
      "source": [
        "# distance from origin\n",
        "\n",
        "def dist(i):\n",
        "    d=0\n",
        "    for j in i:\n",
        "        d+=j**2\n",
        "    di=d**.5\n",
        "    dis.append(di)\n",
        "        \n",
        "dis=[]\n",
        "for i in p:\n",
        "    dist(i)\n",
        "\n",
        "dis=np.array(dis)\n",
        "\n",
        "print(dis)"
      ],
      "metadata": {
        "colab": {
          "base_uri": "https://localhost:8080/"
        },
        "id": "fLDqTWabAv37",
        "outputId": "5243c63f-06f3-44a7-9417-a605dbb94693"
      },
      "execution_count": null,
      "outputs": [
        {
          "output_type": "stream",
          "name": "stdout",
          "text": [
            "[1.98451181 1.95160122 1.78395948 1.46800869 1.89012439]\n"
          ]
        }
      ]
    },
    {
      "cell_type": "code",
      "source": [
        "# angle with respect to each dimension\n",
        "\n",
        "def angle(i,p):\n",
        "    for j in range(0,b):\n",
        "        v1=np.zeros(b)\n",
        "        v1[j]=1\n",
        "        cost=np.dot(v1,p)/(dis[i]**.5)\n",
        "        t=np.arccos(cost)*180/np.pi\n",
        "        angles.append(t)\n",
        "\n",
        "angles=[]\n",
        "\n",
        "for i in range(0,a):\n",
        "    angle(i,p[i])\n",
        "    \n",
        "angles=np.array(angles)    \n",
        "angles=angles.reshape(a,b)\n",
        "print(angles)"
      ],
      "metadata": {
        "colab": {
          "base_uri": "https://localhost:8080/"
        },
        "id": "ZI4tay_wA_fe",
        "outputId": "891cfa36-7ce1-4c28-b8d2-b962e908bcb0"
      },
      "execution_count": null,
      "outputs": [
        {
          "output_type": "stream",
          "name": "stdout",
          "text": [
            "[[ 78.86582754 106.27981946 128.15245352  78.35912793  58.32599464\n",
            "   63.31288978  95.75855877  45.37020265  75.10510694  50.81528617]\n",
            " [ 83.26200305  57.34577679  97.2122259   80.72734955  78.45741654\n",
            "   56.39608829  50.48449587  69.35128235 133.86884729 119.94410373]\n",
            " [ 98.92981683  74.32199648 113.32417143  66.87192603 132.81854216\n",
            "  111.35618903 118.94295379  80.62044766 113.01292529  52.67600503]\n",
            " [ 81.50073493  78.37349022  99.0913832   72.36857992 137.43960207\n",
            "   59.39454172  72.58111736 100.0782116   79.1917303   54.8346877 ]\n",
            " [112.0297846  121.53667343 110.60781857  65.79504523 118.95087704\n",
            "   51.43795908  74.39444221  98.12202141  60.30965175  61.79910183]]\n"
          ]
        }
      ]
    },
    {
      "cell_type": "code",
      "source": [
        "# angle betweem every point\n",
        "\n",
        "def pointangle(q,r,i,j):\n",
        "    if i==j:\n",
        "        cost=1\n",
        "    else:\n",
        "        cost=np.dot(q,r)/((dis[i]*dis[j])**.5)\n",
        "    pointangles.append(cost)\n",
        "\n",
        "pointangles=[]\n",
        "for i in range(0,a):\n",
        "    for j in range(0,a):\n",
        "        pointangle(p[i],p[j],i,j)\n",
        "        \n",
        "pointangles=np.array(pointangles)   \n",
        "pointangles=pointangles.reshape(a,a)\n",
        "pointangles=(np.arccos(pointangles))*180/np.pi\n",
        "print(pointangles)        "
      ],
      "metadata": {
        "colab": {
          "base_uri": "https://localhost:8080/"
        },
        "id": "5efeLmouBA0q",
        "outputId": "f92b04e3-8fbf-4624-eb60-dc8c2fbfa9cb"
      },
      "execution_count": null,
      "outputs": [
        {
          "output_type": "stream",
          "name": "stdout",
          "text": [
            "[[  0.          88.53989153  81.75986076  76.59748503  45.5896835 ]\n",
            " [ 88.53989153   0.         112.27984739  87.68214363 115.19022043]\n",
            " [ 81.75986076 112.27984739   0.          50.89237865  74.99181426]\n",
            " [ 76.59748503  87.68214363  50.89237865   0.                  nan]\n",
            " [ 45.5896835  115.19022043  74.99181426          nan   0.        ]]\n"
          ]
        },
        {
          "output_type": "stream",
          "name": "stderr",
          "text": [
            "/usr/local/lib/python3.7/dist-packages/ipykernel_launcher.py:17: RuntimeWarning: invalid value encountered in arccos\n"
          ]
        }
      ]
    },
    {
      "cell_type": "markdown",
      "source": [
        "# dissimilarity between 2 points"
      ],
      "metadata": {
        "id": "Vp5VGH20BEt_"
      }
    },
    {
      "cell_type": "code",
      "source": [
        "# checking dissimilarity between 2 points\n",
        "def dissimilarity2(p,i,j,v1):\n",
        "    \n",
        "    # finging the hamming distance\n",
        "    distance_hamming=0\n",
        "    for k in range(0,b):\n",
        "        if p[k]==0:\n",
        "            x=0\n",
        "        else:\n",
        "            x=1\n",
        "        distance_hamming+=x\n",
        "    hamming2.append(distance_hamming)\n",
        "    \n",
        "    # lebesgue supremum norm\n",
        "    distance_supremum=max(p)\n",
        "    supremum2.append(distance_supremum) \n",
        "    \n",
        "    # lebesgue euclidean norm\n",
        "    x=0\n",
        "    for k in range(0,b):\n",
        "        x+=p[k]**2\n",
        "    X=x**.5\n",
        "    euclidean2.append(X)\n",
        "    \n",
        "    # lebesgue manhattan norm\n",
        "    x=0\n",
        "    for k in range(0,b):\n",
        "        x+=(p[k]**2)**.5\n",
        "    manhattan2.append(x)\n",
        "    \n",
        "    # lebesgue infimum norm\n",
        "    distance_infimum=min(p)\n",
        "    infimum2.append(distance_infimum)\n",
        "    \n",
        "    # minkowski norm\n",
        "    x=0\n",
        "    for k in range(0,b):\n",
        "        x+=p[k]**b\n",
        "    X=x**(1/b)\n",
        "    minkowski2.append(X)\n",
        "    \n",
        "    # matrix hilbert-schmidt, euclidean, diagonal norms\n",
        "    rows, cols = (b,b)\n",
        "    sum=0\n",
        "    for k in p:\n",
        "        sum+=k\n",
        "    sum=sum/b\n",
        "    \n",
        "    A_hilbertschmidt = [[1]*cols]*rows\n",
        "    A_euclidean=np.identity(b,dtype='float')\n",
        "    A_diagonal=np.diag(v1)\n",
        "    \n",
        "    B_h=np.dot(p,A_hilbertschmidt)\n",
        "    B_e=np.dot(p,A_euclidean)\n",
        "    B_d=np.dot(p,A_diagonal)\n",
        "    \n",
        "    pt=np.transpose(p)\n",
        "    \n",
        "    C_h=np.dot(B_h,pt)\n",
        "    C_e=np.dot(B_e,pt)\n",
        "    C_d=np.dot(B_d,pt)\n",
        "    \n",
        "    matrix_euclidean2.append(C_e**.5)\n",
        "    matrix_hilbertschmidt2.append(C_h**.5)\n",
        "    matrix_diagonal2.append(C_d**.5)\n",
        "    \n",
        "matrix_euclidean2=     []\n",
        "matrix_hilbertschmidt2=[]\n",
        "matrix_diagonal2=      []\n",
        "matrix_mahalanobis2=   []\n",
        "minkowski2=            []\n",
        "infimum2=              []\n",
        "manhattan2=            []\n",
        "euclidean2=            []\n",
        "supremum2=             []\n",
        "hamming2=              []\n",
        "    \n",
        "v1=np.random.rand(b)\n",
        "for i in range(0,a):\n",
        "    for j in range(0,a):\n",
        "        dissimilarity2(p[i]-p[j],i,j,v1)\n",
        "        \n",
        "matrix_euclidean2=np.array(matrix_euclidean2)\n",
        "matrix_hilbertschmidt2=np.array(matrix_hilbertschmidt2)\n",
        "matrix_diagonal2=np.array(matrix_diagonal2)\n",
        "minkowski2=np.array(minkowski2)\n",
        "infimum2=np.array(infimum2)\n",
        "manhattan2=np.array(manhattan2)\n",
        "euclidean2=np.array(euclidean2)\n",
        "supremum2=np.array(supremum2)\n",
        "hamming2=np.array(hamming2)\n",
        "\n",
        "matrix_euclidean2=matrix_euclidean2.reshape(a,a)\n",
        "matrix_hilbertschmidt2=matrix_hilbertschmidt2.reshape(a,a)\n",
        "matrix_diagonal2=matrix_diagonal2.reshape(a,a)\n",
        "minkowski2=minkowski2.reshape(a,a)\n",
        "infimum2=infimum2.reshape(a,a)\n",
        "manhattan2=manhattan2.reshape(a,a)\n",
        "euclidean2=euclidean2.reshape(a,a)\n",
        "supremum2=supremum2.reshape(a,a)\n",
        "hamming2=hamming2.reshape(a,a)\n",
        "\n",
        "print(matrix_euclidean2)\n",
        "print(matrix_hilbertschmidt2)\n",
        "print(matrix_diagonal2)\n",
        "print(minkowski2)\n",
        "print(infimum2)\n",
        "print(manhattan2)\n",
        "print(euclidean2)\n",
        "print(supremum2)\n",
        "print(hamming2)"
      ],
      "metadata": {
        "colab": {
          "base_uri": "https://localhost:8080/"
        },
        "id": "1YV3buaPBCOx",
        "outputId": "f2e36820-b0b6-41fe-c25a-c7e688308e8e"
      },
      "execution_count": null,
      "outputs": [
        {
          "output_type": "stream",
          "name": "stdout",
          "text": [
            "[[0.         2.76527433 2.56543524 2.30262474 2.19094104]\n",
            " [2.76527433 0.         2.89932711 2.41389453 3.00270578]\n",
            " [2.56543524 2.89932711 0.         1.81548671 2.4091594 ]\n",
            " [2.30262474 2.41389453 1.81548671 0.         1.36107656]\n",
            " [2.19094104 3.00270578 2.4091594  1.36107656 0.        ]]\n",
            "[[0.         1.02783184 4.14982704 1.36508368 2.22121251]\n",
            " [1.02783184 0.         3.1219952  0.33725184 1.19338067]\n",
            " [4.14982704 3.1219952  0.         2.78474336 1.92861453]\n",
            " [1.36508368 0.33725184 2.78474336 0.         0.85612883]\n",
            " [2.22121251 1.19338067 1.92861453 0.85612883 0.        ]]\n",
            "[[0.         1.97461558 1.82322919 1.85335971 1.69388727]\n",
            " [1.97461558 0.         2.22114033 1.77526835 1.91142666]\n",
            " [1.82322919 2.22114033 0.         1.33334707 1.57685779]\n",
            " [1.85335971 1.77526835 1.33334707 0.         0.66573751]\n",
            " [1.69388727 1.91142666 1.57685779 0.66573751 0.        ]]\n",
            "[[0.         1.6197554  1.65139894 1.63965719 1.42904899]\n",
            " [1.6197554  0.         1.64919854 1.44177153 1.71261935]\n",
            " [1.65139894 1.64919854 0.         1.14348971 1.39955885]\n",
            " [1.63965719 1.44177153 1.14348971 0.         0.96692712]\n",
            " [1.42904899 1.71261935 1.39955885 0.96692712 0.        ]]\n",
            "[[ 0.         -1.14868126 -0.75584019 -0.67880301 -0.51119124]\n",
            " [-1.58738346  0.         -1.50715096 -1.39513198 -1.64909726]\n",
            " [-1.64751477 -1.53526345  0.         -1.10325755 -1.3434053 ]\n",
            " [-1.63213449 -1.17196604 -0.42969912  0.         -0.45375867]\n",
            " [-1.40519606 -1.47286531 -1.08002424 -0.96326852  0.        ]]\n",
            "[[0.         7.05636056 6.82510856 5.1744401  5.66152594]\n",
            " [7.05636056 0.         7.62729829 5.8322944  8.03042961]\n",
            " [6.82510856 7.62729829 0.         4.41696675 5.84947948]\n",
            " [5.1744401  5.8322944  4.41696675 0.         3.14105213]\n",
            " [5.66152594 8.03042961 5.84947948 3.14105213 0.        ]]\n",
            "[[0.         2.76527433 2.56543524 2.30262474 2.19094104]\n",
            " [2.76527433 0.         2.89932711 2.41389453 3.00270578]\n",
            " [2.56543524 2.89932711 0.         1.81548671 2.4091594 ]\n",
            " [2.30262474 2.41389453 1.81548671 0.         1.36107656]\n",
            " [2.19094104 3.00270578 2.4091594  1.36107656 0.        ]]\n",
            "[[0.         1.58738346 1.64751477 1.63213449 1.40519606]\n",
            " [1.14868126 0.         1.53526345 1.17196604 1.47286531]\n",
            " [0.75584019 1.50715096 0.         0.42969912 1.08002424]\n",
            " [0.67880301 1.39513198 1.10325755 0.         0.96326852]\n",
            " [0.51119124 1.64909726 1.3434053  0.45375867 0.        ]]\n",
            "[[ 0 10 10 10 10]\n",
            " [10  0 10 10 10]\n",
            " [10 10  0 10 10]\n",
            " [10 10 10  0 10]\n",
            " [10 10 10 10  0]]\n"
          ]
        }
      ]
    },
    {
      "cell_type": "markdown",
      "source": [
        "# dis-similarity of 1 point"
      ],
      "metadata": {
        "id": "rH-DQRYbBO50"
      }
    },
    {
      "cell_type": "code",
      "source": [
        "def dissimilarity1(p,i,j,v1):\n",
        "    \n",
        "    distance_hamming=0\n",
        "    for k in range(0,b):\n",
        "        if p[k]==0:\n",
        "            x=0\n",
        "        else:\n",
        "            x=1\n",
        "        distance_hamming+=x\n",
        "    hamming1.append(distance_hamming)\n",
        "    \n",
        "    distance_supremum=max(p)\n",
        "    supremum1.append(distance_supremum) \n",
        "    \n",
        "    x=0\n",
        "    for k in range(0,b):\n",
        "        x+=p[k]**2\n",
        "    X=x**.5\n",
        "    euclidean1.append(X)\n",
        "    \n",
        "    x=0\n",
        "    for k in range(0,b):\n",
        "        x+=(p[k]**2)**.5\n",
        "    manhattan1.append(x)\n",
        "    \n",
        "    distance_infimum=min(p)\n",
        "    infimum1.append(distance_infimum)\n",
        "    \n",
        "    x=0\n",
        "    for k in range(0,b):\n",
        "        x+=p[k]**b\n",
        "    X=x**(1/b)\n",
        "    minkowski1.append(X)\n",
        "    \n",
        "    rows, cols = (b,b)\n",
        "    sum=0\n",
        "    for k in p:\n",
        "        sum+=k\n",
        "    sum=sum/b\n",
        "    \n",
        "    A_hilbertschmidt = [[1]*cols]*rows\n",
        "    A_euclidean=np.identity(b,dtype='float')\n",
        "    A_diagonal=np.diag(v1)\n",
        "    \n",
        "    B_h=np.dot(p,A_hilbertschmidt)\n",
        "    B_e=np.dot(p,A_euclidean)\n",
        "    B_d=np.dot(p,A_diagonal)\n",
        "    \n",
        "    pt=np.transpose(p)\n",
        "    \n",
        "    C_h=np.dot(B_h,pt)\n",
        "    C_e=np.dot(B_e,pt)\n",
        "    C_d=np.dot(B_d,pt)\n",
        "    \n",
        "    matrix_euclidean1.append(C_e**.5)\n",
        "    matrix_hilbertschmidt1.append(C_h**.5)\n",
        "    matrix_diagonal1.append(C_d**.5)\n",
        "    \n",
        "matrix_euclidean1=     []\n",
        "matrix_hilbertschmidt1=[]\n",
        "matrix_diagonal1=      []\n",
        "matrix_mahalanobis1=   []\n",
        "minkowski1=            []\n",
        "infimum1=              []\n",
        "manhattan1=            []\n",
        "euclidean1=            []\n",
        "supremum1=             []\n",
        "hamming1=              []\n",
        "    \n",
        "v1=np.random.rand(b)\n",
        "for i in range(0,a):\n",
        "    dissimilarity1(p[i],i,j,v1)\n",
        "        \n",
        "matrix_euclidean1=np.array(matrix_euclidean1)\n",
        "matrix_hilbertschmidt1=np.array(matrix_hilbertschmidt1)\n",
        "matrix_diagonal1=np.array(matrix_diagonal1)\n",
        "minkowski1=np.array(minkowski1)\n",
        "infimum1=np.array(infimum1)\n",
        "manhattan1=np.array(manhattan1)\n",
        "euclidean1=np.array(euclidean1)\n",
        "supremum1=np.array(supremum1)\n",
        "hamming1=np.array(hamming1)\n",
        "\n",
        "print(matrix_euclidean1)\n",
        "print(matrix_hilbertschmidt1)\n",
        "print(matrix_diagonal1)\n",
        "print(minkowski1)\n",
        "print(infimum1)\n",
        "print(manhattan1)\n",
        "print(euclidean1)\n",
        "print(supremum1)\n",
        "print(hamming1)"
      ],
      "metadata": {
        "colab": {
          "base_uri": "https://localhost:8080/"
        },
        "id": "5YyPv0ghBKO8",
        "outputId": "6840fdde-bb10-41d7-c42d-2d5cd7e799df"
      },
      "execution_count": null,
      "outputs": [
        {
          "output_type": "stream",
          "name": "stdout",
          "text": [
            "[1.98451181 1.95160122 1.78395948 1.46800869 1.89012439]\n",
            "[2.76400485 1.73617301 1.38582219 1.39892117 0.54279234]\n",
            "[1.06080964 1.35214277 1.1764775  0.97492714 1.28934532]\n",
            "[1.04289386 1.01796436 0.93666135 0.90184298 0.888873  ]\n",
            "[-0.87024963 -0.96813297 -0.90781252 -0.89243223 -0.71909057]\n",
            "[5.57701115 5.41784677 5.21196091 3.99072521 5.69957891]\n",
            "[1.98451181 1.95160122 1.78395948 1.46800869 1.89012439]\n",
            "[0.98966349 0.88889116 0.80983296 0.69781398 0.85700884]\n",
            "[10 10 10 10 10]\n"
          ]
        }
      ]
    },
    {
      "cell_type": "markdown",
      "source": [
        "# similarity between 2 points"
      ],
      "metadata": {
        "id": "SYtGsqHUBXtP"
      }
    },
    {
      "cell_type": "code",
      "source": [
        "# finding cosine2, overlap2, dice2, jaccard2 similarity between 2 points\n",
        "\n",
        "def similarity2(r,s):\n",
        "        \n",
        "    sum_rs=0\n",
        "    sum_rr=0\n",
        "    sum_ss=0\n",
        "    dis_rs=0\n",
        "    \n",
        "    for i in range(0,b):\n",
        "        sum_rs+=(r[i]*s[i])\n",
        "        sum_rr+=(r[i]*r[i])\n",
        "        sum_ss+=(s[i]*s[i])\n",
        "        dis_rs+=(s[i]-r[i])**2\n",
        "    \n",
        "    e=sum_rs/(sum_rr*sum_ss)**.5      \n",
        "    f=sum_rs/min(sum_rr,sum_ss)\n",
        "    g=2*sum_rs/(sum_rr+sum_ss)\n",
        "    h=sum_rs/(sum_rr+sum_ss-sum_rs)\n",
        "    \n",
        "    cosine2.append(e)    # cosine similarity\n",
        "    overlap2.append(f)   # overlap similarity\n",
        "    dice2.append(g)      # dice similarity\n",
        "    jaccard2.append(h)   # jaccard similarity\n",
        "    \n",
        "cosine2=[]\n",
        "overlap2=[]\n",
        "dice2=[]\n",
        "jaccard2=[]\n",
        "\n",
        "for i in range(0,a):\n",
        "    for j in range(0,a):\n",
        "        similarity2(p[i],p[j])\n",
        "\n",
        "cosine2=np.array(cosine2)\n",
        "overlap2=np.array(overlap2)\n",
        "dice2=np.array(dice2)\n",
        "jaccard2=np.array(jaccard2)\n",
        "\n",
        "cosine2=cosine2.reshape(a,a)\n",
        "overlap2=overlap2.reshape(a,a)\n",
        "dice2=dice2.reshape(a,a)\n",
        "jaccard2=jaccard2.reshape(a,a)\n",
        "        \n",
        "print(cosine2)\n",
        "print(overlap2)\n",
        "print(dice2)\n",
        "print(jaccard2) \n",
        "\n",
        "# point to remember - dot product and cosine2 are the same thing"
      ],
      "metadata": {
        "colab": {
          "base_uri": "https://localhost:8080/"
        },
        "id": "eiMXpQAhBUZ7",
        "outputId": "19b7f2e6-781d-4703-9e16-b105c14ff333"
      },
      "execution_count": null,
      "outputs": [
        {
          "output_type": "stream",
          "name": "stdout",
          "text": [
            "[[ 1.          0.01294771  0.07617184  0.13580153  0.36132409]\n",
            " [ 0.01294771  1.         -0.20318935  0.02389382 -0.22160841]\n",
            " [ 0.07617184 -0.20318935  1.          0.3897808   0.14102303]\n",
            " [ 0.13580153  0.02389382  0.3897808   1.          0.69828517]\n",
            " [ 0.36132409 -0.22160841  0.14102303  0.69828517  1.        ]]\n",
            "[[ 1.          0.01316606  0.08473506  0.18358185  0.37936759]\n",
            " [ 0.01316606  1.         -0.2222834   0.03176494 -0.22881629]\n",
            " [ 0.08473506 -0.2222834   1.          0.47367101  0.14941543]\n",
            " [ 0.18358185  0.03176494  0.47367101  1.          0.89907223]\n",
            " [ 0.37936759 -0.22881629  0.14941543  0.89907223  1.        ]]\n",
            "[[ 1.          0.0129459   0.07574159  0.12985594  0.36089551]\n",
            " [ 0.0129459   1.         -0.20237256  0.02295686 -0.22149494]\n",
            " [ 0.07574159 -0.20237256  1.          0.38249098  0.14078773]\n",
            " [ 0.12985594  0.02295686  0.38249098  1.          0.67656208]\n",
            " [ 0.36089551 -0.22149494  0.14078773  0.67656208  1.        ]]\n",
            "[[ 1.          0.00651512  0.03936144  0.06943633  0.22017846]\n",
            " [ 0.00651512  1.         -0.09188843  0.01161171 -0.09970535]\n",
            " [ 0.03936144 -0.09188843  1.          0.23646915  0.0757244 ]\n",
            " [ 0.06943633  0.01161171  0.23646915  1.          0.51121558]\n",
            " [ 0.22017846 -0.09970535  0.0757244   0.51121558  1.        ]]\n"
          ]
        }
      ]
    },
    {
      "cell_type": "code",
      "source": [
        ""
      ],
      "metadata": {
        "id": "1nLmCAEWBdXD"
      },
      "execution_count": null,
      "outputs": []
    }
  ]
}